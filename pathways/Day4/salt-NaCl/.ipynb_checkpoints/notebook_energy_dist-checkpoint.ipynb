{
 "cells": [
  {
   "cell_type": "code",
   "execution_count": 1,
   "id": "af0d45b1-008a-45e5-ac87-01fd2f3dc76c",
   "metadata": {},
   "outputs": [],
   "source": [
    "## jupyter notebook for NaCl\n",
    "import numpy as np\n",
    "import matplotlib.pyplot as plt"
   ]
  },
  {
   "cell_type": "code",
   "execution_count": 16,
   "id": "795c12dd-1716-4e9a-83c4-c5bbccff51e4",
   "metadata": {},
   "outputs": [
    {
     "ename": "SyntaxError",
     "evalue": "invalid syntax (3567125777.py, line 2)",
     "output_type": "error",
     "traceback": [
      "\u001b[0;36m  File \u001b[0;32m\"/tmp/ipykernel_19588/3567125777.py\"\u001b[0;36m, line \u001b[0;32m2\u001b[0m\n\u001b[0;31m    np.y = [ ??, ??, ??, ??]\u001b[0m\n\u001b[0m             ^\u001b[0m\n\u001b[0;31mSyntaxError\u001b[0m\u001b[0;31m:\u001b[0m invalid syntax\n"
     ]
    }
   ],
   "source": [
    "np.x = [5.6, 5.7, 5.8, 5.9]\n",
    "np.y = [ ??, ??, ??, ??] "
   ]
  },
  {
   "cell_type": "code",
   "execution_count": null,
   "id": "f10a9f43-3ac5-4b28-bfd9-17d6e1b7e954",
   "metadata": {},
   "outputs": [],
   "source": [
    "plt.plot(np.x,np.y)\n",
    "plt.xlabel('Lattice constant in $\\AA$')\n",
    "plt.ylabel('Energy in Ry') \n",
    "plt.title('NaCl - Energy vs distance ')"
   ]
  },
  {
   "cell_type": "code",
   "execution_count": 17,
   "id": "9105c0a0-2858-4ffd-9296-d12a5923a64d",
   "metadata": {
    "tags": []
   },
   "outputs": [],
   "source": [
    "coeff = np.polyfit(np.x, np.y, 2)  # coeff contains a, b and c from quadratic fit of ax^2 + bx + c\n",
    "\n",
    "np.x2 = np.linspace(2.5, 3.2, num=10) # generate 10 points between 3.8 and 4.5\n",
    "np.quad_fit = [coeff[0]*elem**2 + coeff[1]*elem + coeff[2] for elem in np.x2] "
   ]
  },
  {
   "cell_type": "code",
   "execution_count": null,
   "id": "d2b44a11-9288-4c5c-abe3-be70b47476a8",
   "metadata": {},
   "outputs": [],
   "source": [
    "plt.plot(np.x2, np.quad_fit)\n",
    "plt.xlabel('Lattice constant in $\\AA$')\n",
    "plt.ylabel('Energy in Ry') \n",
    "plt.title('NaCl - Energy vs distance quad. fit')"
   ]
  }
 ],
 "metadata": {
  "kernelspec": {
   "display_name": "Python 3 (ipykernel)",
   "language": "python",
   "name": "python3"
  },
  "language_info": {
   "codemirror_mode": {
    "name": "ipython",
    "version": 3
   },
   "file_extension": ".py",
   "mimetype": "text/x-python",
   "name": "python",
   "nbconvert_exporter": "python",
   "pygments_lexer": "ipython3",
   "version": "3.9.6"
  }
 },
 "nbformat": 4,
 "nbformat_minor": 5
}
